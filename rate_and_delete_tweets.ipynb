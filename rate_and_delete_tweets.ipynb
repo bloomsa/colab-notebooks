{
  "nbformat": 4,
  "nbformat_minor": 0,
  "metadata": {
    "colab": {
      "provenance": [],
      "mount_file_id": "1Ls0d52rc0odT2RU2WJ7IEZwNTcR8btBd",
      "authorship_tag": "ABX9TyMgcogNCx/pip+y+tJVfO9l",
      "include_colab_link": true
    },
    "kernelspec": {
      "name": "python3",
      "display_name": "Python 3"
    },
    "language_info": {
      "name": "python"
    }
  },
  "cells": [
    {
      "cell_type": "markdown",
      "metadata": {
        "id": "view-in-github",
        "colab_type": "text"
      },
      "source": [
        "<a href=\"https://colab.research.google.com/github/bloomsa/colab-notebooks/blob/main/rate_and_delete_tweets.ipynb\" target=\"_parent\"><img src=\"https://colab.research.google.com/assets/colab-badge.svg\" alt=\"Open In Colab\"/></a>"
      ]
    },
    {
      "cell_type": "code",
      "source": [
        "!pip install --upgrade google-genai"
      ],
      "metadata": {
        "id": "nrqyWCOxBpgC"
      },
      "execution_count": null,
      "outputs": []
    },
    {
      "cell_type": "markdown",
      "source": [
        "exploring the data, it's json but embedded in javascript for use by the html report included in the archive. I have to extract the json"
      ],
      "metadata": {
        "id": "3cK7zrvEmwIm"
      }
    },
    {
      "cell_type": "code",
      "source": [
        "%%bash\n",
        "head -n 10 /content/drive/MyDrive/tweet-archive/data/tweets.js"
      ],
      "metadata": {
        "id": "Ng7IeUGdsDI4"
      },
      "execution_count": null,
      "outputs": []
    },
    {
      "cell_type": "code",
      "source": [
        "%%bash\n",
        "tail -n 10 /content/drive/MyDrive/tweet-archive/data/tweets.js"
      ],
      "metadata": {
        "id": "vhGF9nObzN4O"
      },
      "execution_count": null,
      "outputs": []
    },
    {
      "cell_type": "code",
      "source": [
        "import json\n",
        "import re\n",
        "tweet_file_path = \"/content/drive/MyDrive/tweet-archive/data/tweets.js\"\n",
        "\n",
        "with open(tweet_file_path, \"r\") as file:\n",
        "  file_content = file.read()\n",
        "  match = re.search(r\"window\\.YTD\\.tweets\\.part0\\s*=\\s*(\\[.*\\])\", file_content, re.DOTALL)\n",
        "\n",
        "  if match:\n",
        "    json_string = match.group(1)\n",
        "    tweets = json.loads(json_string)\n",
        "  else:\n",
        "    print(\"No match found.\")"
      ],
      "metadata": {
        "id": "qhuTVLvWubAf"
      },
      "execution_count": null,
      "outputs": []
    },
    {
      "cell_type": "markdown",
      "source": [
        "I'm going to use gemini to rate tweets because it's cheap and will be more than good enough at the job. the python sdk is pretty straightfoward too\n",
        "\n",
        "\n",
        "* https://googleapis.github.io/python-genai/#\n",
        "* https://ai.google.dev/gemini-api/docs\n",
        "* https://github.com/googleapis/python-genai"
      ],
      "metadata": {
        "id": "kJz-9ic8vhMy"
      }
    },
    {
      "cell_type": "code",
      "source": [
        "from google.colab import userdata\n",
        "\n",
        "api_key = userdata.get('GOOGLE_API_KEY')"
      ],
      "metadata": {
        "id": "0rsjIPAOC0O2"
      },
      "execution_count": null,
      "outputs": []
    },
    {
      "cell_type": "code",
      "source": [
        "from google import genai\n",
        "\n",
        "aiclient = genai.Client(api_key=api_key)\n",
        "\n",
        "resp = aiclient.models.generate_content(model='gemini-2.0-flash-exp', contents=\"How does AI work?\")"
      ],
      "metadata": {
        "id": "EyeQ8vTICNr6"
      },
      "execution_count": null,
      "outputs": []
    },
    {
      "cell_type": "code",
      "source": [
        "print(resp.text)"
      ],
      "metadata": {
        "id": "n1jaSQAnITcs"
      },
      "execution_count": null,
      "outputs": []
    },
    {
      "cell_type": "code",
      "source": [
        "from google import genai\n",
        "from google.genai import types\n",
        "\n",
        "system_prompt = \"Rate how cringe the text is. Consider it from the point of view of an 20-something professional. This input reflects on their personal brand. Any profanity or offensive language is instantly a 1.00 rating. Respond with a single float value between 0.00 and 1.00.\"\n",
        "\n",
        "aiclient = genai.Client(api_key=api_key)\n",
        "\n",
        "def rate(tweet: dict) -> dict:\n",
        "  full_text = tweet['tweet']['full_text']\n",
        "\n",
        "  if 'rating' not in tweet.keys():\n",
        "    rating = aiclient.models.generate_content(\n",
        "        model='gemini-1.5-flash',\n",
        "        config=types.GenerateContentConfig(system_instruction=system_prompt),\n",
        "        contents=full_text).text\n",
        "    tweet['rating'] = rating\n",
        "\n",
        "  return tweet"
      ],
      "metadata": {
        "id": "Tsmxz4qGC-6l"
      },
      "execution_count": null,
      "outputs": []
    },
    {
      "cell_type": "code",
      "source": [
        "for tweet in tweets:\n",
        "  tweet = rate(tweet)\n"
      ],
      "metadata": {
        "id": "1qMx_oEWUENS"
      },
      "execution_count": null,
      "outputs": []
    },
    {
      "cell_type": "code",
      "source": [
        "import statistics\n",
        "\n",
        "statistics.mean([float(tweet['rating']) for tweet in tweets])"
      ],
      "metadata": {
        "colab": {
          "base_uri": "https://localhost:8080/"
        },
        "id": "U1ciMGVZUOpZ",
        "outputId": "328b2c01-acae-4866-bdec-f10b7ab55571"
      },
      "execution_count": null,
      "outputs": [
        {
          "output_type": "execute_result",
          "data": {
            "text/plain": [
              "0.6653370562425209"
            ]
          },
          "metadata": {},
          "execution_count": 51
        }
      ]
    },
    {
      "cell_type": "code",
      "source": [
        "with open(\"/content/drive/MyDrive/tweet-archive/data/tweets_rated.json\" , 'w') as file:\n",
        "  json.dump(tweets, file)"
      ],
      "metadata": {
        "id": "jhpYPKsrekXJ"
      },
      "execution_count": null,
      "outputs": []
    },
    {
      "cell_type": "markdown",
      "source": [
        "# Checkpoint\n",
        "\n",
        "Rated tweets written to google drive. I can load the rated json file from here to do deletions"
      ],
      "metadata": {
        "id": "ml6hgPUIs3Mu"
      }
    },
    {
      "cell_type": "code",
      "source": [
        "import json\n",
        "with open(\"/content/drive/MyDrive/tweet-archive/data/progress.json\" , 'r') as file:\n",
        "  tweets_95 = json.load(file)"
      ],
      "metadata": {
        "id": "1yuOWIL5Ss1T"
      },
      "execution_count": 1,
      "outputs": []
    },
    {
      "cell_type": "code",
      "source": [
        "from google.colab import userdata\n",
        "from requests_oauthlib import OAuth1\n",
        "import requests\n",
        "\n",
        "client_key = userdata.get('x-con-key')\n",
        "client_secret = userdata.get('x-con-secret')\n",
        "ro_key = userdata.get('x-a-token')\n",
        "ro_secret = userdata.get('x-a-secret')\n",
        "headeroauth = OAuth1(client_key, client_secret,\n",
        "                    ro_key, ro_secret)\n",
        "\n",
        "def delete_tweet(tweet_id):\n",
        "\n",
        "  url = f\"https://api.twitter.com/2/tweets/{tweet_id}\"\n",
        "  return requests.delete(url, auth=headeroauth)"
      ],
      "metadata": {
        "id": "aZkt7JOESE5_"
      },
      "execution_count": 2,
      "outputs": []
    },
    {
      "cell_type": "code",
      "source": [
        "import ipywidgets as widgets\n",
        "from IPython.display import display, clear_output\n",
        "\n",
        "def create_yes_no_buttons_loop(tweets):\n",
        "    \"\"\"\n",
        "    Creates a loop that iterates through a list and displays each item.\n",
        "    For each item, it presents \"Yes\" and \"No\" buttons for user input.\n",
        "\n",
        "    Args:\n",
        "        tweets: A list of tweets to iterate through.\n",
        "\n",
        "    Returns:\n",
        "        The updated list of tweets, adds a 'deleted' key to tweets that are deleted.\n",
        "    \"\"\"\n",
        "\n",
        "    index = 0\n",
        "\n",
        "    output = widgets.Output()  # Output widget to display content dynamically\n",
        "    yes_button = widgets.Button(description=\"Yes\")\n",
        "    no_button = widgets.Button(description=\"No\")\n",
        "    button_box = widgets.HBox([yes_button, no_button])\n",
        "\n",
        "    def display_item_and_buttons():\n",
        "        with output:\n",
        "          nonlocal index\n",
        "          clear_output(wait=True) # Clear previous output\n",
        "          if index < len(tweets):\n",
        "            if 'deleted' not in tweets[index].keys():\n",
        "              print(f\"delete this tweet? rating: {tweets[index]['rating']} - {tweets[index]['tweet']['full_text']}\")\n",
        "              display(button_box)\n",
        "            else:\n",
        "              index += 1\n",
        "              display_item_and_buttons()\n",
        "          else:\n",
        "              print(\"Loop finished!\")\n",
        "\n",
        "    def handle_yes_click(b):\n",
        "        nonlocal index\n",
        "        api_response = delete_tweet(tweets[index]['tweet']['id'])\n",
        "        if api_response.status_code == 200:\n",
        "          tweets[index]['deleted'] = True\n",
        "        elif api_response.status_code == 429:\n",
        "          print(\"rate limited :(\")\n",
        "          return\n",
        "        index += 1\n",
        "        display_item_and_buttons()\n",
        "\n",
        "    def handle_no_click(b):\n",
        "        nonlocal index\n",
        "        tweets.pop(index)\n",
        "        index += 1\n",
        "        display_item_and_buttons()\n",
        "\n",
        "    yes_button.on_click(handle_yes_click)\n",
        "    no_button.on_click(handle_no_click)\n",
        "\n",
        "    display(output)\n",
        "    display_item_and_buttons()\n",
        "\n",
        "    return tweets"
      ],
      "metadata": {
        "id": "TFYC4aZJIliJ"
      },
      "execution_count": 7,
      "outputs": []
    },
    {
      "cell_type": "code",
      "source": [
        "tweets_95 = create_yes_no_buttons_loop(tweets_95)"
      ],
      "metadata": {
        "id": "rrE9URwFTifQ"
      },
      "execution_count": null,
      "outputs": []
    },
    {
      "cell_type": "code",
      "source": [
        "with open(\"/content/drive/MyDrive/tweet-archive/data/progress.json\" , 'w') as file:\n",
        "  json.dump(tweets_95, file)"
      ],
      "metadata": {
        "id": "2w_DiKAcbd4j"
      },
      "execution_count": 5,
      "outputs": []
    },
    {
      "cell_type": "code",
      "source": [],
      "metadata": {
        "id": "SMjaOc6GiRWJ"
      },
      "execution_count": null,
      "outputs": []
    }
  ]
}